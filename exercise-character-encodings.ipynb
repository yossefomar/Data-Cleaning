{
 "cells": [
  {
   "cell_type": "markdown",
   "id": "4c4e7e95",
   "metadata": {
    "papermill": {
     "duration": 0.006852,
     "end_time": "2022-06-28T10:47:41.915890",
     "exception": false,
     "start_time": "2022-06-28T10:47:41.909038",
     "status": "completed"
    },
    "tags": []
   },
   "source": [
    "**This notebook is an exercise in the [Data Cleaning](https://www.kaggle.com/learn/data-cleaning) course.  You can reference the tutorial at [this link](https://www.kaggle.com/alexisbcook/character-encodings).**\n",
    "\n",
    "---\n"
   ]
  },
  {
   "cell_type": "markdown",
   "id": "e8c97667",
   "metadata": {
    "papermill": {
     "duration": 0.005219,
     "end_time": "2022-06-28T10:47:41.926707",
     "exception": false,
     "start_time": "2022-06-28T10:47:41.921488",
     "status": "completed"
    },
    "tags": []
   },
   "source": [
    "In this exercise, you'll apply what you learned in the **Character encodings** tutorial.\n",
    "\n",
    "# Setup\n",
    "\n",
    "The questions below will give you feedback on your work. Run the following cell to set up the feedback system."
   ]
  },
  {
   "cell_type": "code",
   "execution_count": 1,
   "id": "e9d6ac8d",
   "metadata": {
    "execution": {
     "iopub.execute_input": "2022-06-28T10:47:41.939516Z",
     "iopub.status.busy": "2022-06-28T10:47:41.939083Z",
     "iopub.status.idle": "2022-06-28T10:47:42.022675Z",
     "shell.execute_reply": "2022-06-28T10:47:42.021158Z"
    },
    "papermill": {
     "duration": 0.093461,
     "end_time": "2022-06-28T10:47:42.025612",
     "exception": false,
     "start_time": "2022-06-28T10:47:41.932151",
     "status": "completed"
    },
    "tags": []
   },
   "outputs": [
    {
     "name": "stdout",
     "output_type": "stream",
     "text": [
      "Setup Complete\n"
     ]
    }
   ],
   "source": [
    "from learntools.core import binder\n",
    "binder.bind(globals())\n",
    "from learntools.data_cleaning.ex4 import *\n",
    "print(\"Setup Complete\")"
   ]
  },
  {
   "cell_type": "markdown",
   "id": "e343c409",
   "metadata": {
    "papermill": {
     "duration": 0.00526,
     "end_time": "2022-06-28T10:47:42.036550",
     "exception": false,
     "start_time": "2022-06-28T10:47:42.031290",
     "status": "completed"
    },
    "tags": []
   },
   "source": [
    "# Get our environment set up\n",
    "\n",
    "The first thing we'll need to do is load in the libraries we'll be using."
   ]
  },
  {
   "cell_type": "code",
   "execution_count": 2,
   "id": "f5d01698",
   "metadata": {
    "execution": {
     "iopub.execute_input": "2022-06-28T10:47:42.049263Z",
     "iopub.status.busy": "2022-06-28T10:47:42.048838Z",
     "iopub.status.idle": "2022-06-28T10:47:42.054706Z",
     "shell.execute_reply": "2022-06-28T10:47:42.053391Z"
    },
    "papermill": {
     "duration": 0.01534,
     "end_time": "2022-06-28T10:47:42.057197",
     "exception": false,
     "start_time": "2022-06-28T10:47:42.041857",
     "status": "completed"
    },
    "tags": []
   },
   "outputs": [],
   "source": [
    "# modules we'll use\n",
    "import pandas as pd\n",
    "import numpy as np\n",
    "\n",
    "# helpful character encoding module\n",
    "import chardet\n",
    "\n",
    "# set seed for reproducibility\n",
    "np.random.seed(0)"
   ]
  },
  {
   "cell_type": "markdown",
   "id": "db4cabed",
   "metadata": {
    "papermill": {
     "duration": 0.005188,
     "end_time": "2022-06-28T10:47:42.067860",
     "exception": false,
     "start_time": "2022-06-28T10:47:42.062672",
     "status": "completed"
    },
    "tags": []
   },
   "source": [
    "# 1) What are encodings?\n",
    "\n",
    "You're working with a dataset composed of bytes.  Run the code cell below to print a sample entry."
   ]
  },
  {
   "cell_type": "code",
   "execution_count": 3,
   "id": "4e290477",
   "metadata": {
    "execution": {
     "iopub.execute_input": "2022-06-28T10:47:42.080517Z",
     "iopub.status.busy": "2022-06-28T10:47:42.080100Z",
     "iopub.status.idle": "2022-06-28T10:47:42.085422Z",
     "shell.execute_reply": "2022-06-28T10:47:42.084433Z"
    },
    "papermill": {
     "duration": 0.014574,
     "end_time": "2022-06-28T10:47:42.087858",
     "exception": false,
     "start_time": "2022-06-28T10:47:42.073284",
     "status": "completed"
    },
    "tags": []
   },
   "outputs": [
    {
     "name": "stdout",
     "output_type": "stream",
     "text": [
      "b'\\xa7A\\xa6n'\n",
      "data type: <class 'bytes'>\n"
     ]
    }
   ],
   "source": [
    "sample_entry = b'\\xa7A\\xa6n'\n",
    "print(sample_entry)\n",
    "print('data type:', type(sample_entry))"
   ]
  },
  {
   "cell_type": "markdown",
   "id": "a126c756",
   "metadata": {
    "papermill": {
     "duration": 0.005313,
     "end_time": "2022-06-28T10:47:42.098788",
     "exception": false,
     "start_time": "2022-06-28T10:47:42.093475",
     "status": "completed"
    },
    "tags": []
   },
   "source": [
    "You notice that it doesn't use the standard UTF-8 encoding. \n",
    "\n",
    "Use the next code cell to create a variable `new_entry` that changes the encoding from `\"big5-tw\"` to `\"utf-8\"`.  `new_entry` should have the bytes datatype."
   ]
  },
  {
   "cell_type": "code",
   "execution_count": 4,
   "id": "53de804d",
   "metadata": {
    "execution": {
     "iopub.execute_input": "2022-06-28T10:47:42.111735Z",
     "iopub.status.busy": "2022-06-28T10:47:42.111035Z",
     "iopub.status.idle": "2022-06-28T10:47:42.124730Z",
     "shell.execute_reply": "2022-06-28T10:47:42.123461Z"
    },
    "papermill": {
     "duration": 0.022597,
     "end_time": "2022-06-28T10:47:42.126959",
     "exception": false,
     "start_time": "2022-06-28T10:47:42.104362",
     "status": "completed"
    },
    "tags": []
   },
   "outputs": [
    {
     "data": {
      "application/javascript": [
       "parent.postMessage({\"jupyterEvent\": \"custom.exercise_interaction\", \"data\": {\"outcomeType\": 1, \"valueTowardsCompletion\": 0.3333333333333333, \"interactionType\": 1, \"questionType\": 1, \"questionId\": \"1_EncodingsIntro\", \"learnToolsVersion\": \"0.3.4\", \"failureMessage\": \"\", \"exceptionClass\": \"\", \"trace\": \"\"}}, \"*\")"
      ],
      "text/plain": [
       "<IPython.core.display.Javascript object>"
      ]
     },
     "metadata": {},
     "output_type": "display_data"
    },
    {
     "data": {
      "text/markdown": [
       "<span style=\"color:#33cc33\">Correct</span>"
      ],
      "text/plain": [
       "Correct"
      ]
     },
     "metadata": {},
     "output_type": "display_data"
    }
   ],
   "source": [
    "string1=sample_entry.decode('big5-tw')\n",
    "new_entry = string1.encode('utf-8',errors='replace')\n",
    "\n",
    "# Check your answer\n",
    "q1.check()"
   ]
  },
  {
   "cell_type": "raw",
   "id": "47cbc919",
   "metadata": {
    "papermill": {
     "duration": 0.00555,
     "end_time": "2022-06-28T10:47:42.138415",
     "exception": false,
     "start_time": "2022-06-28T10:47:42.132865",
     "status": "completed"
    },
    "tags": []
   },
   "source": [
    "new_entry = encode('utf-8',errors='replace')\n",
    "\n",
    "# Check your answer\n",
    "q1.check()"
   ]
  },
  {
   "cell_type": "code",
   "execution_count": 5,
   "id": "3f4546a4",
   "metadata": {
    "execution": {
     "iopub.execute_input": "2022-06-28T10:47:42.151897Z",
     "iopub.status.busy": "2022-06-28T10:47:42.151493Z",
     "iopub.status.idle": "2022-06-28T10:47:42.156509Z",
     "shell.execute_reply": "2022-06-28T10:47:42.155299Z"
    },
    "papermill": {
     "duration": 0.014809,
     "end_time": "2022-06-28T10:47:42.158947",
     "exception": false,
     "start_time": "2022-06-28T10:47:42.144138",
     "status": "completed"
    },
    "tags": []
   },
   "outputs": [],
   "source": [
    "# Lines below will give you a hint or solution code\n",
    "#q1.hint()\n",
    "#q1.solution()"
   ]
  },
  {
   "cell_type": "markdown",
   "id": "083b9f76",
   "metadata": {
    "papermill": {
     "duration": 0.005561,
     "end_time": "2022-06-28T10:47:42.170453",
     "exception": false,
     "start_time": "2022-06-28T10:47:42.164892",
     "status": "completed"
    },
    "tags": []
   },
   "source": [
    "# 2) Reading in files with encoding problems\n",
    "\n",
    "Use the code cell below to read in this file at path `\"../input/fatal-police-shootings-in-the-us/PoliceKillingsUS.csv\"`.  \n",
    "\n",
    "Figure out what the correct encoding should be and read in the file to a DataFrame `police_killings`."
   ]
  },
  {
   "cell_type": "code",
   "execution_count": 6,
   "id": "6f8afd6f",
   "metadata": {
    "execution": {
     "iopub.execute_input": "2022-06-28T10:47:42.183556Z",
     "iopub.status.busy": "2022-06-28T10:47:42.183153Z",
     "iopub.status.idle": "2022-06-28T10:47:42.210869Z",
     "shell.execute_reply": "2022-06-28T10:47:42.209505Z"
    },
    "papermill": {
     "duration": 0.037201,
     "end_time": "2022-06-28T10:47:42.213389",
     "exception": false,
     "start_time": "2022-06-28T10:47:42.176188",
     "status": "completed"
    },
    "tags": []
   },
   "outputs": [
    {
     "data": {
      "application/javascript": [
       "parent.postMessage({\"jupyterEvent\": \"custom.exercise_interaction\", \"data\": {\"outcomeType\": 1, \"valueTowardsCompletion\": 0.3333333333333333, \"interactionType\": 1, \"questionType\": 1, \"questionId\": \"2_ReadIn\", \"learnToolsVersion\": \"0.3.4\", \"failureMessage\": \"\", \"exceptionClass\": \"\", \"trace\": \"\"}}, \"*\")"
      ],
      "text/plain": [
       "<IPython.core.display.Javascript object>"
      ]
     },
     "metadata": {},
     "output_type": "display_data"
    },
    {
     "data": {
      "text/markdown": [
       "<span style=\"color:#33cc33\">Correct</span>"
      ],
      "text/plain": [
       "Correct"
      ]
     },
     "metadata": {},
     "output_type": "display_data"
    }
   ],
   "source": [
    "# TODO: Load in the DataFrame correctly.\n",
    "police_killings=pd.read_csv(\"../input/fatal-police-shootings-in-the-us/PoliceKillingsUS.csv\",encoding='Windows-1252')\n",
    "\n",
    "\n",
    "\n",
    "# Check your answer\n",
    "q2.check()"
   ]
  },
  {
   "cell_type": "markdown",
   "id": "8bdefbe0",
   "metadata": {
    "papermill": {
     "duration": 0.00576,
     "end_time": "2022-06-28T10:47:42.225384",
     "exception": false,
     "start_time": "2022-06-28T10:47:42.219624",
     "status": "completed"
    },
    "tags": []
   },
   "source": [
    "Feel free to use any additional code cells for supplemental work.  To get credit for finishing this question, you'll need to run `q2.check()` and get a result of **Correct**."
   ]
  },
  {
   "cell_type": "code",
   "execution_count": 7,
   "id": "46256716",
   "metadata": {
    "execution": {
     "iopub.execute_input": "2022-06-28T10:47:42.239451Z",
     "iopub.status.busy": "2022-06-28T10:47:42.239075Z",
     "iopub.status.idle": "2022-06-28T10:47:42.244155Z",
     "shell.execute_reply": "2022-06-28T10:47:42.242831Z"
    },
    "papermill": {
     "duration": 0.015234,
     "end_time": "2022-06-28T10:47:42.246746",
     "exception": false,
     "start_time": "2022-06-28T10:47:42.231512",
     "status": "completed"
    },
    "tags": []
   },
   "outputs": [],
   "source": [
    "# (Optional) Use this code cell for any additional work."
   ]
  },
  {
   "cell_type": "code",
   "execution_count": 8,
   "id": "900c5123",
   "metadata": {
    "execution": {
     "iopub.execute_input": "2022-06-28T10:47:42.260580Z",
     "iopub.status.busy": "2022-06-28T10:47:42.260205Z",
     "iopub.status.idle": "2022-06-28T10:47:42.263975Z",
     "shell.execute_reply": "2022-06-28T10:47:42.263180Z"
    },
    "papermill": {
     "duration": 0.012964,
     "end_time": "2022-06-28T10:47:42.265984",
     "exception": false,
     "start_time": "2022-06-28T10:47:42.253020",
     "status": "completed"
    },
    "tags": []
   },
   "outputs": [],
   "source": [
    "# Lines below will give you a hint or solution code\n",
    "#q2.hint()\n",
    "#q2.solution()"
   ]
  },
  {
   "cell_type": "markdown",
   "id": "b6cbacaf",
   "metadata": {
    "papermill": {
     "duration": 0.006041,
     "end_time": "2022-06-28T10:47:42.278238",
     "exception": false,
     "start_time": "2022-06-28T10:47:42.272197",
     "status": "completed"
    },
    "tags": []
   },
   "source": [
    "ncoding='Windows-1252')# 3) Saving your files with UTF-8 encoding\n",
    "\n",
    "Save a version of the police killings dataset to CSV with UTF-8 encoding.  Your answer will be marked correct after saving this file.  \n",
    "\n",
    "Note: When using the `to_csv()` method, supply only the name of the file (e.g., `\"my_file.csv\"`).  This saves the file at the filepath `\"/kaggle/working/my_file.csv\"`."
   ]
  },
  {
   "cell_type": "code",
   "execution_count": 9,
   "id": "f983650c",
   "metadata": {
    "execution": {
     "iopub.execute_input": "2022-06-28T10:47:42.292084Z",
     "iopub.status.busy": "2022-06-28T10:47:42.291675Z",
     "iopub.status.idle": "2022-06-28T10:47:42.331150Z",
     "shell.execute_reply": "2022-06-28T10:47:42.330210Z"
    },
    "papermill": {
     "duration": 0.049101,
     "end_time": "2022-06-28T10:47:42.333375",
     "exception": false,
     "start_time": "2022-06-28T10:47:42.284274",
     "status": "completed"
    },
    "tags": []
   },
   "outputs": [
    {
     "data": {
      "application/javascript": [
       "parent.postMessage({\"jupyterEvent\": \"custom.exercise_interaction\", \"data\": {\"outcomeType\": 1, \"valueTowardsCompletion\": 0.3333333333333333, \"interactionType\": 1, \"questionType\": 2, \"questionId\": \"3_SaveCSV\", \"learnToolsVersion\": \"0.3.4\", \"failureMessage\": \"\", \"exceptionClass\": \"\", \"trace\": \"\"}}, \"*\")"
      ],
      "text/plain": [
       "<IPython.core.display.Javascript object>"
      ]
     },
     "metadata": {},
     "output_type": "display_data"
    },
    {
     "data": {
      "text/markdown": [
       "<span style=\"color:#33cc33\">Correct</span>"
      ],
      "text/plain": [
       "Correct"
      ]
     },
     "metadata": {},
     "output_type": "display_data"
    }
   ],
   "source": [
    "# TODO: Save the police killings dataset to CSV\n",
    "police_killings.to_csv(\"/kaggle/working/my_file.csv-utf8.csv\")\n",
    "\n",
    "# Check your answer\n",
    "q3.check()"
   ]
  },
  {
   "cell_type": "code",
   "execution_count": 10,
   "id": "3c2f9e6c",
   "metadata": {
    "execution": {
     "iopub.execute_input": "2022-06-28T10:47:42.348404Z",
     "iopub.status.busy": "2022-06-28T10:47:42.347725Z",
     "iopub.status.idle": "2022-06-28T10:47:42.351504Z",
     "shell.execute_reply": "2022-06-28T10:47:42.350709Z"
    },
    "papermill": {
     "duration": 0.013848,
     "end_time": "2022-06-28T10:47:42.353747",
     "exception": false,
     "start_time": "2022-06-28T10:47:42.339899",
     "status": "completed"
    },
    "tags": []
   },
   "outputs": [],
   "source": [
    "# Lines below will give you a hint or solution code\n",
    "#q3.hint()\n",
    "#q3.solution()"
   ]
  },
  {
   "cell_type": "markdown",
   "id": "105536ce",
   "metadata": {
    "papermill": {
     "duration": 0.007143,
     "end_time": "2022-06-28T10:47:42.367581",
     "exception": false,
     "start_time": "2022-06-28T10:47:42.360438",
     "status": "completed"
    },
    "tags": []
   },
   "source": [
    "# (Optional) More practice\n",
    "\n",
    "Check out [this dataset of files in different character encodings](https://www.kaggle.com/rtatman/character-encoding-examples). Can you read in all the files with their original encodings and them save them out as UTF-8 files?\n",
    "\n",
    "If you have a file that's in UTF-8 but has just a couple of weird-looking characters in it, you can try out the [ftfy module](https://ftfy.readthedocs.io/en/latest/#) and see if it helps. \n",
    "\n",
    "# Keep going\n",
    "\n",
    "In the final lesson, learn how to [**clean up inconsistent text entries**](https://www.kaggle.com/alexisbcook/inconsistent-data-entry) in your dataset."
   ]
  },
  {
   "cell_type": "markdown",
   "id": "59016490",
   "metadata": {
    "papermill": {
     "duration": 0.006223,
     "end_time": "2022-06-28T10:47:42.380720",
     "exception": false,
     "start_time": "2022-06-28T10:47:42.374497",
     "status": "completed"
    },
    "tags": []
   },
   "source": [
    "---\n",
    "\n",
    "\n",
    "\n",
    "\n",
    "*Have questions or comments? Visit the [course discussion forum](https://www.kaggle.com/learn/data-cleaning/discussion) to chat with other learners.*"
   ]
  }
 ],
 "metadata": {
  "kernelspec": {
   "display_name": "Python 3",
   "language": "python",
   "name": "python3"
  },
  "language_info": {
   "codemirror_mode": {
    "name": "ipython",
    "version": 3
   },
   "file_extension": ".py",
   "mimetype": "text/x-python",
   "name": "python",
   "nbconvert_exporter": "python",
   "pygments_lexer": "ipython3",
   "version": "3.7.12"
  },
  "papermill": {
   "default_parameters": {},
   "duration": 10.659567,
   "end_time": "2022-06-28T10:47:43.008647",
   "environment_variables": {},
   "exception": null,
   "input_path": "__notebook__.ipynb",
   "output_path": "__notebook__.ipynb",
   "parameters": {},
   "start_time": "2022-06-28T10:47:32.349080",
   "version": "2.3.4"
  }
 },
 "nbformat": 4,
 "nbformat_minor": 5
}
