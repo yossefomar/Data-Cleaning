{
 "cells": [
  {
   "cell_type": "markdown",
   "id": "35fc0cd4",
   "metadata": {
    "papermill": {
     "duration": 0.006721,
     "end_time": "2022-06-28T12:06:14.977563",
     "exception": false,
     "start_time": "2022-06-28T12:06:14.970842",
     "status": "completed"
    },
    "tags": []
   },
   "source": [
    "**This notebook is an exercise in the [Data Cleaning](https://www.kaggle.com/learn/data-cleaning) course.  You can reference the tutorial at [this link](https://www.kaggle.com/alexisbcook/inconsistent-data-entry).**\n",
    "\n",
    "---\n"
   ]
  },
  {
   "cell_type": "markdown",
   "id": "a3779558",
   "metadata": {
    "papermill": {
     "duration": 0.005479,
     "end_time": "2022-06-28T12:06:14.989099",
     "exception": false,
     "start_time": "2022-06-28T12:06:14.983620",
     "status": "completed"
    },
    "tags": []
   },
   "source": [
    "In this exercise, you'll apply what you learned in the **Inconsistent data entry** tutorial.\n",
    "\n",
    "# Setup\n",
    "\n",
    "The questions below will give you feedback on your work. Run the following cell to set up the feedback system."
   ]
  },
  {
   "cell_type": "code",
   "execution_count": 1,
   "id": "b33ee19b",
   "metadata": {
    "execution": {
     "iopub.execute_input": "2022-06-28T12:06:15.003081Z",
     "iopub.status.busy": "2022-06-28T12:06:15.002658Z",
     "iopub.status.idle": "2022-06-28T12:06:15.126920Z",
     "shell.execute_reply": "2022-06-28T12:06:15.125453Z"
    },
    "papermill": {
     "duration": 0.136453,
     "end_time": "2022-06-28T12:06:15.131405",
     "exception": false,
     "start_time": "2022-06-28T12:06:14.994952",
     "status": "completed"
    },
    "tags": []
   },
   "outputs": [
    {
     "name": "stdout",
     "output_type": "stream",
     "text": [
      "Setup Complete\n"
     ]
    }
   ],
   "source": [
    "from learntools.core import binder\n",
    "binder.bind(globals())\n",
    "from learntools.data_cleaning.ex5 import *\n",
    "print(\"Setup Complete\")"
   ]
  },
  {
   "cell_type": "markdown",
   "id": "c09eacbc",
   "metadata": {
    "papermill": {
     "duration": 0.008711,
     "end_time": "2022-06-28T12:06:15.146151",
     "exception": false,
     "start_time": "2022-06-28T12:06:15.137440",
     "status": "completed"
    },
    "tags": []
   },
   "source": [
    "# Get our environment set up\n",
    "\n",
    "The first thing we'll need to do is load in the libraries and dataset we'll be using.  We use the same dataset from the tutorial."
   ]
  },
  {
   "cell_type": "code",
   "execution_count": 2,
   "id": "a5556fb7",
   "metadata": {
    "execution": {
     "iopub.execute_input": "2022-06-28T12:06:15.161275Z",
     "iopub.status.busy": "2022-06-28T12:06:15.160887Z",
     "iopub.status.idle": "2022-06-28T12:06:15.178386Z",
     "shell.execute_reply": "2022-06-28T12:06:15.176612Z"
    },
    "papermill": {
     "duration": 0.028098,
     "end_time": "2022-06-28T12:06:15.181543",
     "exception": false,
     "start_time": "2022-06-28T12:06:15.153445",
     "status": "completed"
    },
    "tags": []
   },
   "outputs": [],
   "source": [
    "# modules we'll use\n",
    "import pandas as pd\n",
    "import numpy as np\n",
    "\n",
    "# helpful modules\n",
    "import fuzzywuzzy\n",
    "from fuzzywuzzy import process\n",
    "import chardet\n",
    "\n",
    "# read in all our data\n",
    "professors = pd.read_csv(\"../input/pakistan-intellectual-capital/pakistan_intellectual_capital.csv\")\n",
    "\n",
    "# set seed for reproducibility\n",
    "np.random.seed(0)"
   ]
  },
  {
   "cell_type": "markdown",
   "id": "b00e9e03",
   "metadata": {
    "papermill": {
     "duration": 0.005665,
     "end_time": "2022-06-28T12:06:15.195282",
     "exception": false,
     "start_time": "2022-06-28T12:06:15.189617",
     "status": "completed"
    },
    "tags": []
   },
   "source": [
    "Next, we'll redo all of the work that we did in the tutorial."
   ]
  },
  {
   "cell_type": "code",
   "execution_count": 3,
   "id": "509dd658",
   "metadata": {
    "execution": {
     "iopub.execute_input": "2022-06-28T12:06:15.210432Z",
     "iopub.status.busy": "2022-06-28T12:06:15.209902Z",
     "iopub.status.idle": "2022-06-28T12:06:15.231671Z",
     "shell.execute_reply": "2022-06-28T12:06:15.230633Z"
    },
    "papermill": {
     "duration": 0.032234,
     "end_time": "2022-06-28T12:06:15.234020",
     "exception": false,
     "start_time": "2022-06-28T12:06:15.201786",
     "status": "completed"
    },
    "tags": []
   },
   "outputs": [
    {
     "name": "stdout",
     "output_type": "stream",
     "text": [
      "All done!\n"
     ]
    }
   ],
   "source": [
    "# convert to lower case\n",
    "professors['Country'] = professors['Country'].str.lower()\n",
    "# remove trailing white spaces\n",
    "professors['Country'] = professors['Country'].str.strip()\n",
    "\n",
    "# get the top 10 closest matches to \"south korea\"\n",
    "countries = professors['Country'].unique()\n",
    "matches = fuzzywuzzy.process.extract(\"south korea\", countries, limit=10, scorer=fuzzywuzzy.fuzz.token_sort_ratio)\n",
    "\n",
    "def replace_matches_in_column(df, column, string_to_match, min_ratio = 47):\n",
    "    # get a list of unique strings\n",
    "    strings = df[column].unique()\n",
    "    \n",
    "    # get the top 10 closest matches to our input string\n",
    "    matches = fuzzywuzzy.process.extract(string_to_match, strings, \n",
    "                                         limit=10, scorer=fuzzywuzzy.fuzz.token_sort_ratio)\n",
    "\n",
    "    # only get matches with a ratio > 90\n",
    "    close_matches = [matches[0] for matches in matches if matches[1] >= min_ratio]\n",
    "\n",
    "    # get the rows of all the close matches in our dataframe\n",
    "    rows_with_matches = df[column].isin(close_matches)\n",
    "\n",
    "    # replace all rows with close matches with the input matches \n",
    "    df.loc[rows_with_matches, column] = string_to_match\n",
    "    \n",
    "    # let us know the function's done\n",
    "    print(\"All done!\")\n",
    "    \n",
    "replace_matches_in_column(df=professors, column='Country', string_to_match=\"south korea\")\n",
    "countries = professors['Country'].unique()"
   ]
  },
  {
   "cell_type": "markdown",
   "id": "62fc86bb",
   "metadata": {
    "papermill": {
     "duration": 0.005696,
     "end_time": "2022-06-28T12:06:15.245660",
     "exception": false,
     "start_time": "2022-06-28T12:06:15.239964",
     "status": "completed"
    },
    "tags": []
   },
   "source": [
    "# 1) Examine another column\n",
    "\n",
    "Write code below to take a look at all the unique values in the \"Graduated from\" column."
   ]
  },
  {
   "cell_type": "code",
   "execution_count": 4,
   "id": "a6510384",
   "metadata": {
    "execution": {
     "iopub.execute_input": "2022-06-28T12:06:15.260935Z",
     "iopub.status.busy": "2022-06-28T12:06:15.258602Z",
     "iopub.status.idle": "2022-06-28T12:06:15.266766Z",
     "shell.execute_reply": "2022-06-28T12:06:15.265669Z"
    },
    "papermill": {
     "duration": 0.017641,
     "end_time": "2022-06-28T12:06:15.269104",
     "exception": false,
     "start_time": "2022-06-28T12:06:15.251463",
     "status": "completed"
    },
    "tags": []
   },
   "outputs": [],
   "source": [
    "colleges=professors[\"Graduated from\"].unique()"
   ]
  },
  {
   "cell_type": "markdown",
   "id": "9f70b3ce",
   "metadata": {
    "papermill": {
     "duration": 0.005775,
     "end_time": "2022-06-28T12:06:15.280999",
     "exception": false,
     "start_time": "2022-06-28T12:06:15.275224",
     "status": "completed"
    },
    "tags": []
   },
   "source": [
    "Do you notice any inconsistencies in the data?  Can any of the inconsistencies in the data be fixed by removing white spaces at the beginning and end of cells?\n",
    "\n",
    "Once you have answered these questions, run the code cell below to get credit for your work."
   ]
  },
  {
   "cell_type": "code",
   "execution_count": 5,
   "id": "97861c9b",
   "metadata": {
    "execution": {
     "iopub.execute_input": "2022-06-28T12:06:15.294605Z",
     "iopub.status.busy": "2022-06-28T12:06:15.294002Z",
     "iopub.status.idle": "2022-06-28T12:06:15.306203Z",
     "shell.execute_reply": "2022-06-28T12:06:15.304848Z"
    },
    "papermill": {
     "duration": 0.021985,
     "end_time": "2022-06-28T12:06:15.308878",
     "exception": false,
     "start_time": "2022-06-28T12:06:15.286893",
     "status": "completed"
    },
    "tags": []
   },
   "outputs": [
    {
     "data": {
      "application/javascript": [
       "parent.postMessage({\"jupyterEvent\": \"custom.exercise_interaction\", \"data\": {\"outcomeType\": 1, \"valueTowardsCompletion\": 0.3333333333333333, \"interactionType\": 1, \"questionType\": 4, \"questionId\": \"1_ExamineProvince\", \"learnToolsVersion\": \"0.3.4\", \"failureMessage\": \"\", \"exceptionClass\": \"\", \"trace\": \"\"}}, \"*\")"
      ],
      "text/plain": [
       "<IPython.core.display.Javascript object>"
      ]
     },
     "metadata": {},
     "output_type": "display_data"
    },
    {
     "data": {
      "text/markdown": [
       "<span style=\"color:#33cc33\">Correct:</span> \n",
       "\n",
       "There are inconsistencies that can be fixed by removing white spaces at the beginning and end of cells.  For instance, \"University of Central Florida\" and \" University of Central Florida\" both appear in the column."
      ],
      "text/plain": [
       "Correct: \n",
       "\n",
       "There are inconsistencies that can be fixed by removing white spaces at the beginning and end of cells.  For instance, \"University of Central Florida\" and \" University of Central Florida\" both appear in the column."
      ]
     },
     "metadata": {},
     "output_type": "display_data"
    }
   ],
   "source": [
    "# Check your answer (Run this code cell to receive credit!)\n",
    "q1.check()"
   ]
  },
  {
   "cell_type": "code",
   "execution_count": 6,
   "id": "34fc51e0",
   "metadata": {
    "execution": {
     "iopub.execute_input": "2022-06-28T12:06:15.324033Z",
     "iopub.status.busy": "2022-06-28T12:06:15.322725Z",
     "iopub.status.idle": "2022-06-28T12:06:15.327921Z",
     "shell.execute_reply": "2022-06-28T12:06:15.326721Z"
    },
    "papermill": {
     "duration": 0.015117,
     "end_time": "2022-06-28T12:06:15.330323",
     "exception": false,
     "start_time": "2022-06-28T12:06:15.315206",
     "status": "completed"
    },
    "tags": []
   },
   "outputs": [],
   "source": [
    "# Line below will give you a hint\n",
    "#q1.hint()"
   ]
  },
  {
   "cell_type": "markdown",
   "id": "602e2604",
   "metadata": {
    "papermill": {
     "duration": 0.00588,
     "end_time": "2022-06-28T12:06:15.342443",
     "exception": false,
     "start_time": "2022-06-28T12:06:15.336563",
     "status": "completed"
    },
    "tags": []
   },
   "source": [
    "# 2) Do some text pre-processing\n",
    "\n",
    "Convert every entry in the \"Graduated from\" column in the `professors` DataFrame to remove white spaces at the beginning and end of cells."
   ]
  },
  {
   "cell_type": "code",
   "execution_count": 7,
   "id": "76459767",
   "metadata": {
    "execution": {
     "iopub.execute_input": "2022-06-28T12:06:15.357232Z",
     "iopub.status.busy": "2022-06-28T12:06:15.356351Z",
     "iopub.status.idle": "2022-06-28T12:06:15.370033Z",
     "shell.execute_reply": "2022-06-28T12:06:15.368836Z"
    },
    "papermill": {
     "duration": 0.024037,
     "end_time": "2022-06-28T12:06:15.372615",
     "exception": false,
     "start_time": "2022-06-28T12:06:15.348578",
     "status": "completed"
    },
    "tags": []
   },
   "outputs": [
    {
     "data": {
      "application/javascript": [
       "parent.postMessage({\"jupyterEvent\": \"custom.exercise_interaction\", \"data\": {\"outcomeType\": 1, \"valueTowardsCompletion\": 0.3333333333333333, \"interactionType\": 1, \"questionType\": 1, \"questionId\": \"2_TextProcessing\", \"learnToolsVersion\": \"0.3.4\", \"failureMessage\": \"\", \"exceptionClass\": \"\", \"trace\": \"\"}}, \"*\")"
      ],
      "text/plain": [
       "<IPython.core.display.Javascript object>"
      ]
     },
     "metadata": {},
     "output_type": "display_data"
    },
    {
     "data": {
      "text/markdown": [
       "<span style=\"color:#33cc33\">Correct</span>"
      ],
      "text/plain": [
       "Correct"
      ]
     },
     "metadata": {},
     "output_type": "display_data"
    }
   ],
   "source": [
    "# TODO: Your code here\n",
    "#professors['Graduated from']=professors['Graduated from'].str.lower()\n",
    "professors['Graduated from'] = professors['Graduated from'].str.strip()\n",
    "#colleges=professors[\"Graduated from\"].unique()\n",
    "# Check your answer\n",
    "q2.check()"
   ]
  },
  {
   "cell_type": "code",
   "execution_count": 8,
   "id": "60080978",
   "metadata": {
    "execution": {
     "iopub.execute_input": "2022-06-28T12:06:15.388008Z",
     "iopub.status.busy": "2022-06-28T12:06:15.386956Z",
     "iopub.status.idle": "2022-06-28T12:06:15.392163Z",
     "shell.execute_reply": "2022-06-28T12:06:15.391153Z"
    },
    "papermill": {
     "duration": 0.015388,
     "end_time": "2022-06-28T12:06:15.394430",
     "exception": false,
     "start_time": "2022-06-28T12:06:15.379042",
     "status": "completed"
    },
    "tags": []
   },
   "outputs": [],
   "source": [
    "# Lines below will give you a hint or solution code\n",
    "#q2.hint()\n",
    "#q2.solution()"
   ]
  },
  {
   "cell_type": "markdown",
   "id": "332d99c7",
   "metadata": {
    "papermill": {
     "duration": 0.006124,
     "end_time": "2022-06-28T12:06:15.406948",
     "exception": false,
     "start_time": "2022-06-28T12:06:15.400824",
     "status": "completed"
    },
    "tags": []
   },
   "source": [
    "# 3) Continue working with countries\n",
    "\n",
    "In the tutorial, we focused on cleaning up inconsistencies in the \"Country\" column.  Run the code cell below to view the list of unique values that we ended with."
   ]
  },
  {
   "cell_type": "code",
   "execution_count": 9,
   "id": "083c9951",
   "metadata": {
    "execution": {
     "iopub.execute_input": "2022-06-28T12:06:15.422004Z",
     "iopub.status.busy": "2022-06-28T12:06:15.421048Z",
     "iopub.status.idle": "2022-06-28T12:06:15.429908Z",
     "shell.execute_reply": "2022-06-28T12:06:15.428701Z"
    },
    "papermill": {
     "duration": 0.018816,
     "end_time": "2022-06-28T12:06:15.432279",
     "exception": false,
     "start_time": "2022-06-28T12:06:15.413463",
     "status": "completed"
    },
    "tags": []
   },
   "outputs": [
    {
     "data": {
      "text/plain": [
       "array(['australia', 'austria', 'canada', 'china', 'finland', 'france',\n",
       "       'germany', 'greece', 'hongkong', 'ireland', 'italy', 'japan',\n",
       "       'macau', 'malaysia', 'mauritius', 'netherland', 'new zealand',\n",
       "       'norway', 'pakistan', 'portugal', 'russian federation',\n",
       "       'saudi arabia', 'scotland', 'singapore', 'south korea', 'spain',\n",
       "       'sweden', 'thailand', 'turkey', 'uk', 'urbana', 'usa', 'usofa'],\n",
       "      dtype=object)"
      ]
     },
     "execution_count": 9,
     "metadata": {},
     "output_type": "execute_result"
    }
   ],
   "source": [
    "# get all the unique values in the 'City' column\n",
    "countries = professors['Country'].unique()\n",
    "\n",
    "# sort them alphabetically and then take a closer look\n",
    "countries.sort()\n",
    "countries"
   ]
  },
  {
   "cell_type": "markdown",
   "id": "9db0ca80",
   "metadata": {
    "papermill": {
     "duration": 0.006254,
     "end_time": "2022-06-28T12:06:15.445222",
     "exception": false,
     "start_time": "2022-06-28T12:06:15.438968",
     "status": "completed"
    },
    "tags": []
   },
   "source": [
    "Take another look at the \"Country\" column and see if there's any more data cleaning we need to do.\n",
    "\n",
    "It looks like 'usa' and 'usofa' should be the same country.  Correct the \"Country\" column in the dataframe to replace 'usofa' with 'usa'.\n",
    "\n",
    "**Use the most recent version of the DataFrame (with the whitespaces at the beginning and end of cells removed) from question 2.**"
   ]
  },
  {
   "cell_type": "code",
   "execution_count": 10,
   "id": "231b731f",
   "metadata": {
    "execution": {
     "iopub.execute_input": "2022-06-28T12:06:15.460940Z",
     "iopub.status.busy": "2022-06-28T12:06:15.460226Z",
     "iopub.status.idle": "2022-06-28T12:06:15.474083Z",
     "shell.execute_reply": "2022-06-28T12:06:15.473215Z"
    },
    "papermill": {
     "duration": 0.024332,
     "end_time": "2022-06-28T12:06:15.476118",
     "exception": false,
     "start_time": "2022-06-28T12:06:15.451786",
     "status": "completed"
    },
    "tags": []
   },
   "outputs": [
    {
     "name": "stdout",
     "output_type": "stream",
     "text": [
      "All done!\n"
     ]
    },
    {
     "data": {
      "application/javascript": [
       "parent.postMessage({\"jupyterEvent\": \"custom.exercise_interaction\", \"data\": {\"outcomeType\": 1, \"valueTowardsCompletion\": 0.3333333333333333, \"interactionType\": 1, \"questionType\": 1, \"questionId\": \"3_WorkingWithCities\", \"learnToolsVersion\": \"0.3.4\", \"failureMessage\": \"\", \"exceptionClass\": \"\", \"trace\": \"\"}}, \"*\")"
      ],
      "text/plain": [
       "<IPython.core.display.Javascript object>"
      ]
     },
     "metadata": {},
     "output_type": "display_data"
    },
    {
     "data": {
      "text/markdown": [
       "<span style=\"color:#33cc33\">Correct</span>"
      ],
      "text/plain": [
       "Correct"
      ]
     },
     "metadata": {},
     "output_type": "display_data"
    }
   ],
   "source": [
    "# TODO: Your code here!\n",
    "matches = fuzzywuzzy.process.extract(\"usa\", countries, limit=10, scorer=fuzzywuzzy.fuzz.token_sort_ratio)\n",
    "replace_matches_in_column(df=professors, column='Country', string_to_match=\"usa\", min_ratio=70)\n",
    "\n",
    "# Check your answer\n",
    "q3.check()"
   ]
  },
  {
   "cell_type": "code",
   "execution_count": 11,
   "id": "61d63a6d",
   "metadata": {
    "execution": {
     "iopub.execute_input": "2022-06-28T12:06:15.492427Z",
     "iopub.status.busy": "2022-06-28T12:06:15.491690Z",
     "iopub.status.idle": "2022-06-28T12:06:15.496173Z",
     "shell.execute_reply": "2022-06-28T12:06:15.495377Z"
    },
    "papermill": {
     "duration": 0.015502,
     "end_time": "2022-06-28T12:06:15.498497",
     "exception": false,
     "start_time": "2022-06-28T12:06:15.482995",
     "status": "completed"
    },
    "tags": []
   },
   "outputs": [],
   "source": [
    "# Lines below will give you a hint or solution code\n",
    "#q3.hint()\n",
    "#q3.solution()"
   ]
  },
  {
   "cell_type": "markdown",
   "id": "281c60e9",
   "metadata": {
    "papermill": {
     "duration": 0.006464,
     "end_time": "2022-06-28T12:06:15.511844",
     "exception": false,
     "start_time": "2022-06-28T12:06:15.505380",
     "status": "completed"
    },
    "tags": []
   },
   "source": [
    "# Congratulations!\n",
    "\n",
    "Congratulations for completing the **Data Cleaning** course on Kaggle Learn!\n",
    "\n",
    "To practice your new skills, you're encouraged to download and investigate some of [Kaggle's Datasets](https://www.kaggle.com/datasets)."
   ]
  },
  {
   "cell_type": "markdown",
   "id": "e2787d39",
   "metadata": {
    "papermill": {
     "duration": 0.006733,
     "end_time": "2022-06-28T12:06:15.525447",
     "exception": false,
     "start_time": "2022-06-28T12:06:15.518714",
     "status": "completed"
    },
    "tags": []
   },
   "source": [
    "---\n",
    "\n",
    "\n",
    "\n",
    "\n",
    "*Have questions or comments? Visit the [course discussion forum](https://www.kaggle.com/learn/data-cleaning/discussion) to chat with other learners.*"
   ]
  }
 ],
 "metadata": {
  "kernelspec": {
   "display_name": "Python 3",
   "language": "python",
   "name": "python3"
  },
  "language_info": {
   "codemirror_mode": {
    "name": "ipython",
    "version": 3
   },
   "file_extension": ".py",
   "mimetype": "text/x-python",
   "name": "python",
   "nbconvert_exporter": "python",
   "pygments_lexer": "ipython3",
   "version": "3.7.12"
  },
  "papermill": {
   "default_parameters": {},
   "duration": 11.245169,
   "end_time": "2022-06-28T12:06:16.154388",
   "environment_variables": {},
   "exception": null,
   "input_path": "__notebook__.ipynb",
   "output_path": "__notebook__.ipynb",
   "parameters": {},
   "start_time": "2022-06-28T12:06:04.909219",
   "version": "2.3.4"
  }
 },
 "nbformat": 4,
 "nbformat_minor": 5
}
